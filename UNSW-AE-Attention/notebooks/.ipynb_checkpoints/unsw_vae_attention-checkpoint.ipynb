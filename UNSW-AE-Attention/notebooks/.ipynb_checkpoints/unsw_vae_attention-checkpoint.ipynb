{
 "cells": [
  {
   "metadata": {
    "ExecuteTime": {
     "end_time": "2025-10-29T12:54:20.128450Z",
     "start_time": "2025-10-29T12:54:19.007804Z"
    }
   },
   "cell_type": "code",
   "source": [
    "import os\n",
    "import pandas as pd\n",
    "import numpy as np\n",
    "from sklearn.preprocessing import MinMaxScaler\n",
    "\n",
    "# === 1️⃣ Veri yükleme ===\n",
    "train_data_df = pd.read_csv('../data/UNSW_NB15_training-set.csv')\n",
    "test_data_df = pd.read_csv('../data/UNSW_NB15_testing-set.csv')\n",
    "\n",
    "\n",
    "# === 2️⃣ Verileri birleştir ===\n",
    "data_df = pd.concat([train_data_df, test_data_df], axis=0)\n",
    "data_df = data_df.drop([\"id\", \"attack_cat\"], axis=1)\n",
    "\n",
    "# === 3️⃣ Kategorik ve sayısal değişkenleri ayır ===\n",
    "cat_vars = [\"proto\", \"service\", \"state\", \"is_ftp_login\", \"is_sm_ips_ports\"]\n",
    "cat_data = pd.get_dummies(data_df[cat_vars], drop_first=True)\n",
    "\n",
    "numeric_vars = list(set(data_df.columns) - set(cat_vars))\n",
    "numeric_vars.remove(\"label\")\n",
    "numeric_data = data_df[numeric_vars].copy()\n",
    "\n",
    "# === 4️⃣ Sayısal değişkenleri normalize et ===\n",
    "scaler = MinMaxScaler()\n",
    "numeric_scaled = pd.DataFrame(scaler.fit_transform(numeric_data), columns=numeric_data.columns)\n",
    "\n",
    "# === 5️⃣ Hepsini birleştir ===\n",
    "numeric_scaled = numeric_scaled.reset_index(drop=True)\n",
    "cat_data = cat_data.reset_index(drop=True)\n",
    "labels = data_df[\"label\"].reset_index(drop=True)\n",
    "\n",
    "final_data_df = pd.concat([numeric_scaled, cat_data, labels], axis=1)\n",
    "\n",
    "\n",
    "# === 6️⃣ Eğitim ve test verilerini ayır ===\n",
    "x = final_data_df.drop(\"label\", axis=1)\n",
    "y = final_data_df[\"label\"]\n",
    "\n",
    "# Sadece normal veriden eğitim al\n",
    "x_train = x[y == 0]\n",
    "x_test = x\n",
    "y_test = y\n",
    "\n",
    "print(\"Eğitim veri boyutu:\", x_train.shape)\n",
    "print(\"Test veri boyutu:\", x_test.shape)\n",
    "\n",
    "# === 7️⃣ Tüm veriyi numerik tipe ve float'a çevir ===\n",
    "x_train = x_train.apply(pd.to_numeric, errors='coerce').fillna(0).astype(float)\n",
    "x_test = x_test.apply(pd.to_numeric, errors='coerce').fillna(0).astype(float)\n",
    "\n",
    "\n"
   ],
   "id": "e102afa338359622",
   "outputs": [
    {
     "name": "stdout",
     "output_type": "stream",
     "text": [
      "Eğitim veri boyutu: (20242, 189)\n",
      "Test veri boyutu: (29999, 189)\n"
     ]
    }
   ],
   "execution_count": 6
  },
  {
   "metadata": {
    "ExecuteTime": {
     "end_time": "2025-10-29T15:56:13.606012Z",
     "start_time": "2025-10-29T15:56:13.285571Z"
    }
   },
   "cell_type": "code",
   "source": "print(x_train.dtypes.value_counts())\n",
   "id": "de0c4dbdd5be6085",
   "outputs": [
    {
     "name": "stdout",
     "output_type": "stream",
     "text": [
      "float64    189\n",
      "Name: count, dtype: int64\n"
     ]
    }
   ],
   "execution_count": 35
  },
  {
   "metadata": {
    "ExecuteTime": {
     "end_time": "2025-10-29T16:28:53.950477Z",
     "start_time": "2025-10-29T16:28:53.240815Z"
    }
   },
   "cell_type": "code",
   "source": [
    "import torch\n",
    "from torch.utils.data import DataLoader\n",
    "from utils.Data_gen import Data_gen\n",
    "from utils.attention_autoencoder import AttentionVAE\n",
    "import numpy as np\n",
    "\n",
    "# --- DataLoader ---\n",
    "batch_size = 64\n",
    "train_dataset = Data_gen(x_train)\n",
    "train_loader = DataLoader(train_dataset, batch_size=batch_size, shuffle=True)\n",
    "\n",
    "# --- Cihaz seçimi ---\n",
    "device = torch.device(\"cuda\" if torch.cuda.is_available() else \"cpu\")\n",
    "print(f\"Kullanılan cihaz: {device}\")\n",
    "\n",
    "# --- Model ve optimizer ---\n",
    "input_size = x_train.shape[1]\n",
    "model = AttentionVAE(input_size).to(device)\n",
    "optimizer = torch.optim.Adam(model.parameters(), lr=0.001)\n",
    "num_epochs = 100\n",
    "\n",
    "train_losses = []\n",
    "\n",
    "# === Eğitim döngüsü ===\n",
    "for epoch in range(num_epochs):\n",
    "    model.train()\n",
    "    total_loss = 0.0\n",
    "    \n",
    "    for batch in train_loader:\n",
    "        batch = batch.to(device)\n",
    "        recon_batch, mean, log_var, attention, layer_loss = model(batch)\n",
    "        \n",
    "        # Reconstruction Loss\n",
    "        recon_loss = torch.mean((batch - recon_batch) ** 2, dim=1)\n",
    "        attention = torch.softmax(attention, dim=-1)\n",
    "        weighted_recon_loss = torch.sum(attention * recon_loss.unsqueeze(1), dim=1).mean()\n",
    "        \n",
    "        # KL Divergence\n",
    "        kl_loss = -0.5 * torch.sum(1 + log_var - mean.pow(2) - log_var.exp()) / batch.size(0)\n",
    "        \n",
    "        # Toplam Loss (hocanın önerisine uygun)\n",
    "        loss = 0.8 * weighted_recon_loss + 0.001 * kl_loss + 0.2 * layer_loss\n",
    "        \n",
    "        optimizer.zero_grad()\n",
    "        loss.backward()\n",
    "        optimizer.step()\n",
    "        total_loss += loss.item()\n",
    "\n",
    "    avg_loss = total_loss / len(train_loader)\n",
    "    train_losses.append(avg_loss)\n",
    "    print(f\"Epoch [{epoch+1}/{num_epochs}] - Loss: {avg_loss:.6f}\")\n",
    "\n",
    "print(\"✅ Eğitim tamamlandı\")\n",
    "torch.save(model.state_dict(), \"../results/models/attention_vae_layer_model.pth\")\n"
   ],
   "id": "acd8dcab65df7564",
   "outputs": [
    {
     "name": "stdout",
     "output_type": "stream",
     "text": [
      "Kullanılan cihaz: cpu\n"
     ]
    },
    {
     "ename": "ValueError",
     "evalue": "not enough values to unpack (expected 5, got 4)",
     "output_type": "error",
     "traceback": [
      "\u001B[31m---------------------------------------------------------------------------\u001B[39m",
      "\u001B[31mValueError\u001B[39m                                Traceback (most recent call last)",
      "\u001B[36mCell\u001B[39m\u001B[36m \u001B[39m\u001B[32mIn[44]\u001B[39m\u001B[32m, line 31\u001B[39m\n\u001B[32m     29\u001B[39m \u001B[38;5;28;01mfor\u001B[39;00m batch \u001B[38;5;129;01min\u001B[39;00m train_loader:\n\u001B[32m     30\u001B[39m     batch = batch.to(device)\n\u001B[32m---> \u001B[39m\u001B[32m31\u001B[39m     recon_batch, mean, log_var, attention, layer_loss = model(batch)\n\u001B[32m     33\u001B[39m     \u001B[38;5;66;03m# Reconstruction Loss\u001B[39;00m\n\u001B[32m     34\u001B[39m     recon_loss = torch.mean((batch - recon_batch) ** \u001B[32m2\u001B[39m, dim=\u001B[32m1\u001B[39m)\n",
      "\u001B[31mValueError\u001B[39m: not enough values to unpack (expected 5, got 4)"
     ]
    }
   ],
   "execution_count": 44
  },
  {
   "metadata": {
    "ExecuteTime": {
     "end_time": "2025-10-29T16:34:14.502562Z",
     "start_time": "2025-10-29T16:34:11.183150Z"
    }
   },
   "cell_type": "code",
   "source": [
    "from utils.attention_autoencoder import AttentionVAE\n",
    "import torch\n",
    "\n",
    "model = AttentionVAE(10)\n",
    "out = model(torch.randn(1, 10))\n",
    "print(\"Çıktı uzunluğu:\", len(out))\n"
   ],
   "id": "dee21f78a2912c09",
   "outputs": [
    {
     "ename": "RuntimeError",
     "evalue": "The size of tensor a (96) must match the size of tensor b (10) at non-singleton dimension 1",
     "output_type": "error",
     "traceback": [
      "\u001B[31m---------------------------------------------------------------------------\u001B[39m",
      "\u001B[31mRuntimeError\u001B[39m                              Traceback (most recent call last)",
      "\u001B[36mCell\u001B[39m\u001B[36m \u001B[39m\u001B[32mIn[1]\u001B[39m\u001B[32m, line 5\u001B[39m\n\u001B[32m      2\u001B[39m \u001B[38;5;28;01mimport\u001B[39;00m\u001B[38;5;250m \u001B[39m\u001B[34;01mtorch\u001B[39;00m\n\u001B[32m      4\u001B[39m model = AttentionVAE(\u001B[32m10\u001B[39m)\n\u001B[32m----> \u001B[39m\u001B[32m5\u001B[39m out = \u001B[43mmodel\u001B[49m\u001B[43m(\u001B[49m\u001B[43mtorch\u001B[49m\u001B[43m.\u001B[49m\u001B[43mrandn\u001B[49m\u001B[43m(\u001B[49m\u001B[32;43m1\u001B[39;49m\u001B[43m,\u001B[49m\u001B[43m \u001B[49m\u001B[32;43m10\u001B[39;49m\u001B[43m)\u001B[49m\u001B[43m)\u001B[49m\n\u001B[32m      6\u001B[39m \u001B[38;5;28mprint\u001B[39m(\u001B[33m\"\u001B[39m\u001B[33mÇıktı uzunluğu:\u001B[39m\u001B[33m\"\u001B[39m, \u001B[38;5;28mlen\u001B[39m(out))\n",
      "\u001B[36mFile \u001B[39m\u001B[32m~\\PycharmProjects\\UNSW-AE-Attention\\.venv\\Lib\\site-packages\\torch\\nn\\modules\\module.py:1775\u001B[39m, in \u001B[36mModule._wrapped_call_impl\u001B[39m\u001B[34m(self, *args, **kwargs)\u001B[39m\n\u001B[32m   1773\u001B[39m     \u001B[38;5;28;01mreturn\u001B[39;00m \u001B[38;5;28mself\u001B[39m._compiled_call_impl(*args, **kwargs)  \u001B[38;5;66;03m# type: ignore[misc]\u001B[39;00m\n\u001B[32m   1774\u001B[39m \u001B[38;5;28;01melse\u001B[39;00m:\n\u001B[32m-> \u001B[39m\u001B[32m1775\u001B[39m     \u001B[38;5;28;01mreturn\u001B[39;00m \u001B[38;5;28;43mself\u001B[39;49m\u001B[43m.\u001B[49m\u001B[43m_call_impl\u001B[49m\u001B[43m(\u001B[49m\u001B[43m*\u001B[49m\u001B[43margs\u001B[49m\u001B[43m,\u001B[49m\u001B[43m \u001B[49m\u001B[43m*\u001B[49m\u001B[43m*\u001B[49m\u001B[43mkwargs\u001B[49m\u001B[43m)\u001B[49m\n",
      "\u001B[36mFile \u001B[39m\u001B[32m~\\PycharmProjects\\UNSW-AE-Attention\\.venv\\Lib\\site-packages\\torch\\nn\\modules\\module.py:1786\u001B[39m, in \u001B[36mModule._call_impl\u001B[39m\u001B[34m(self, *args, **kwargs)\u001B[39m\n\u001B[32m   1781\u001B[39m \u001B[38;5;66;03m# If we don't have any hooks, we want to skip the rest of the logic in\u001B[39;00m\n\u001B[32m   1782\u001B[39m \u001B[38;5;66;03m# this function, and just call forward.\u001B[39;00m\n\u001B[32m   1783\u001B[39m \u001B[38;5;28;01mif\u001B[39;00m \u001B[38;5;129;01mnot\u001B[39;00m (\u001B[38;5;28mself\u001B[39m._backward_hooks \u001B[38;5;129;01mor\u001B[39;00m \u001B[38;5;28mself\u001B[39m._backward_pre_hooks \u001B[38;5;129;01mor\u001B[39;00m \u001B[38;5;28mself\u001B[39m._forward_hooks \u001B[38;5;129;01mor\u001B[39;00m \u001B[38;5;28mself\u001B[39m._forward_pre_hooks\n\u001B[32m   1784\u001B[39m         \u001B[38;5;129;01mor\u001B[39;00m _global_backward_pre_hooks \u001B[38;5;129;01mor\u001B[39;00m _global_backward_hooks\n\u001B[32m   1785\u001B[39m         \u001B[38;5;129;01mor\u001B[39;00m _global_forward_hooks \u001B[38;5;129;01mor\u001B[39;00m _global_forward_pre_hooks):\n\u001B[32m-> \u001B[39m\u001B[32m1786\u001B[39m     \u001B[38;5;28;01mreturn\u001B[39;00m \u001B[43mforward_call\u001B[49m\u001B[43m(\u001B[49m\u001B[43m*\u001B[49m\u001B[43margs\u001B[49m\u001B[43m,\u001B[49m\u001B[43m \u001B[49m\u001B[43m*\u001B[49m\u001B[43m*\u001B[49m\u001B[43mkwargs\u001B[49m\u001B[43m)\u001B[49m\n\u001B[32m   1788\u001B[39m result = \u001B[38;5;28;01mNone\u001B[39;00m\n\u001B[32m   1789\u001B[39m called_always_called_hooks = \u001B[38;5;28mset\u001B[39m()\n",
      "\u001B[36mFile \u001B[39m\u001B[32m~\\PycharmProjects\\UNSW-AE-Attention\\utils\\attention_autoencoder.py:121\u001B[39m, in \u001B[36mAttentionVAE.forward\u001B[39m\u001B[34m(self, x)\u001B[39m\n\u001B[32m    119\u001B[39m \u001B[38;5;28;01mfor\u001B[39;00m layer_out \u001B[38;5;129;01min\u001B[39;00m layer_outputs:\n\u001B[32m    120\u001B[39m     layer_recon = \u001B[38;5;28mself\u001B[39m.decoder(\u001B[38;5;28mself\u001B[39m.reparameterize(mean, log_var))\n\u001B[32m--> \u001B[39m\u001B[32m121\u001B[39m     loss = torch.mean((\u001B[43mlayer_out\u001B[49m\u001B[43m \u001B[49m\u001B[43m-\u001B[49m\u001B[43m \u001B[49m\u001B[43mlayer_recon\u001B[49m\u001B[43m[\u001B[49m\u001B[43m:\u001B[49m\u001B[43m,\u001B[49m\u001B[43m \u001B[49m\u001B[43m:\u001B[49m\u001B[43mlayer_out\u001B[49m\u001B[43m.\u001B[49m\u001B[43mshape\u001B[49m\u001B[43m[\u001B[49m\u001B[32;43m1\u001B[39;49m\u001B[43m]\u001B[49m\u001B[43m]\u001B[49m) ** \u001B[32m2\u001B[39m, dim=\u001B[32m1\u001B[39m)\n\u001B[32m    122\u001B[39m     layer_losses.append(loss.unsqueeze(\u001B[32m1\u001B[39m))\n\u001B[32m    124\u001B[39m \u001B[38;5;66;03m# (batch, num_layers)\u001B[39;00m\n",
      "\u001B[31mRuntimeError\u001B[39m: The size of tensor a (96) must match the size of tensor b (10) at non-singleton dimension 1"
     ]
    }
   ],
   "execution_count": 1
  },
  {
   "metadata": {
    "ExecuteTime": {
     "end_time": "2025-10-29T16:00:41.611416Z",
     "start_time": "2025-10-29T16:00:34.224458Z"
    }
   },
   "cell_type": "code",
   "source": [
    "import torch\n",
    "import numpy as np\n",
    "import matplotlib.pyplot as plt\n",
    "from sklearn.metrics import roc_auc_score, roc_curve, precision_recall_curve, auc\n",
    "\n",
    "# --- Test verisini modele ver ---\n",
    "model.eval()\n",
    "with torch.no_grad():\n",
    "    x_tensor = torch.tensor(x_test.values, dtype=torch.float32).to(device)\n",
    "    recon_batch, mean, log_var, attention = model(x_tensor)\n",
    "    recon_error = torch.mean((x_tensor - recon_batch) ** 2, dim=1).cpu().numpy()\n",
    "\n",
    "# --- Reconstruction error dataframe ---\n",
    "errors_df = pd.DataFrame({\n",
    "    \"error\": recon_error,\n",
    "    \"label\": y_test.values\n",
    "})\n",
    "\n",
    "# --- Histogram (normal vs anomaly) ---\n",
    "plt.figure(figsize=(8,5))\n",
    "plt.hist(errors_df[errors_df[\"label\"]==0][\"error\"], bins=60, alpha=0.6, label=\"Normal\", color='steelblue')\n",
    "plt.hist(errors_df[errors_df[\"label\"]==1][\"error\"], bins=60, alpha=0.6, label=\"Anomaly\", color='darkorange')\n",
    "plt.title(\"Reconstruction Error Dağılımı - Attention VAE\")\n",
    "plt.xlabel(\"Reconstruction Error (MSE)\")\n",
    "plt.ylabel(\"Frekans\")\n",
    "plt.legend()\n",
    "plt.show()\n"
   ],
   "id": "61cf5f114c43252c",
   "outputs": [
    {
     "data": {
      "text/plain": [
       "<Figure size 800x500 with 1 Axes>"
      ],
      "image/png": "[encoded data removed]"
     },
     "metadata": {},
     "output_type": "display_data"
    }
   ],
   "execution_count": 37
  },
  {
   "metadata": {
    "ExecuteTime": {
     "end_time": "2025-10-29T16:01:04.518402Z",
     "start_time": "2025-10-29T16:01:04.239102Z"
    }
   },
   "cell_type": "code",
   "source": [
    "# --- ROC Eğrisi ---\n",
    "fpr, tpr, _ = roc_curve(errors_df[\"label\"], errors_df[\"error\"])\n",
    "roc_auc = auc(fpr, tpr)\n",
    "\n",
    "plt.figure(figsize=(6,6))\n",
    "plt.plot(fpr, tpr, color='orange', label=f\"ROC eğrisi (AUC = {roc_auc:.4f})\")\n",
    "plt.plot([0,1], [0,1], linestyle='--', color='gray')\n",
    "plt.title(\"ROC Eğrisi - Attention VAE\")\n",
    "plt.xlabel(\"False Positive Rate\")\n",
    "plt.ylabel(\"True Positive Rate\")\n",
    "plt.legend()\n",
    "plt.show()\n",
    "\n",
    "# --- Precision-Recall Eğrisi ---\n",
    "precision, recall, _ = precision_recall_curve(errors_df[\"label\"], errors_df[\"error\"])\n",
    "pr_auc = auc(recall, precision)\n",
    "\n",
    "plt.figure(figsize=(6,6))\n",
    "plt.plot(recall, precision, color='blue', label=f\"PR Eğrisi (AUPRC = {pr_auc:.4f})\")\n",
    "plt.title(\"Precision-Recall Eğrisi - Attention VAE\")\n",
    "plt.xlabel(\"Recall\")\n",
    "plt.ylabel(\"Precision\")\n",
    "plt.legend()\n",
    "plt.show()\n",
    "\n",
    "print(f\"AUROC: {roc_auc:.4f}\")\n",
    "print(f\"AUPRC: {pr_auc:.4f}\")\n"
   ],
   "id": "5912e837418f2020",
   "outputs": [
    {
     "data": {
      "text/plain": [
       "<Figure size 600x600 with 1 Axes>"
      ],
      "image/png": "[encoded data removed]"
     },
     "metadata": {},
     "output_type": "display_data"
    },
    {
     "data": {
      "text/plain": [
       "<Figure size 600x600 with 1 Axes>"
      ],
      "image/png": "[encoded data removed]"
     },
     "metadata": {},
     "output_type": "display_data"
    },
    {
     "name": "stdout",
     "output_type": "stream",
     "text": [
      "AUROC: 0.9492\n",
      "AUPRC: 0.8510\n"
     ]
    }
   ],
   "execution_count": 38
  },
  {
   "metadata": {
    "ExecuteTime": {
     "end_time": "2025-10-29T16:01:15.762319Z",
     "start_time": "2025-10-29T16:01:15.141143Z"
    }
   },
   "cell_type": "code",
   "source": [
    "import numpy as np\n",
    "from sklearn.covariance import EmpiricalCovariance\n",
    "from scipy.spatial import distance\n",
    "from sklearn.metrics import confusion_matrix, classification_report, f1_score\n",
    "\n",
    "print(\"🔍 Attention + Mahalanobis kombinasyonu başlatılıyor...\\n\")\n",
    "\n",
    "# --- 1️⃣ Modeli test moduna al ---\n",
    "model.eval()\n",
    "latent_vectors, recon_errors, attn_scores = [], [], []\n",
    "\n",
    "with torch.no_grad():\n",
    "    x_tensor = torch.tensor(x_test.values, dtype=torch.float32).to(device)\n",
    "    recon_batch, mean, log_var, attention = model(x_tensor)\n",
    "\n",
    "    # Reconstruction error\n",
    "    recon_error = torch.mean((x_tensor - recon_batch) ** 2, dim=1).cpu().numpy()\n",
    "    recon_errors = recon_error\n",
    "\n",
    "    # Latent vektörleri al\n",
    "    latent_vectors = mean.cpu().numpy()\n",
    "\n",
    "    # Attention ağırlıkları (örnek başına ortalama al)\n",
    "    attn_scores = attention.mean(dim=1).cpu().numpy()\n",
    "\n",
    "# --- 2️⃣ Mahalanobis Distance hesapla (latent uzayda) ---\n",
    "latent_normal = latent_vectors[y_test.values == 0]  # sadece normal verilerle kovaryans\n",
    "cov_est = EmpiricalCovariance().fit(latent_normal)\n",
    "cov_inv = cov_est.precision_\n",
    "mean_vec = np.mean(latent_normal, axis=0)\n",
    "\n",
    "md_scores = np.array([\n",
    "    distance.mahalanobis(x, mean_vec, cov_inv) for x in latent_vectors\n",
    "])\n",
    "\n",
    "# --- 3️⃣ Skorları normalize et (Z-score standardizasyonu) ---\n",
    "def z_norm(v):\n",
    "    return (v - np.mean(v)) / (np.std(v) + 1e-8)\n",
    "\n",
    "recon_z = z_norm(recon_errors)\n",
    "md_z = z_norm(md_scores)\n",
    "\n",
    "# --- 4️⃣ Attention ile ağırlıklı toplam skor ---\n",
    "# Eğer attention vektörleri modelden geldiyse, adaptif birleşim yapıyoruz:\n",
    "final_score = attn_scores * recon_z + (1 - attn_scores) * md_z\n",
    "\n",
    "# --- 5️⃣ Dinamik threshold (95. persentil) ---\n",
    "normal_scores = final_score[y_test.values == 0]\n",
    "threshold = np.percentile(normal_scores, 95)\n",
    "print(f\"Belirlenen dinamik eşik (95. persentil): {threshold:.6f}\")\n",
    "\n",
    "# --- 6️⃣ Tahmin ve değerlendirme ---\n",
    "y_pred = (final_score > threshold).astype(int)\n",
    "cm = confusion_matrix(y_test, y_pred)\n",
    "f1 = f1_score(y_test, y_pred)\n",
    "\n",
    "print(\"\\nConfusion Matrix:\\n\", cm)\n",
    "print(\"\\nClassification Report:\\n\", classification_report(y_test, y_pred))\n",
    "print(f\"F1 Skoru: {f1:.4f}\")\n",
    "\n",
    "# --- 7️⃣ Sonuçları DataFrame'e kaydet (opsiyonel) ---\n",
    "results_df = pd.DataFrame({\n",
    "    \"recon_z\": recon_z,\n",
    "    \"md_z\": md_z,\n",
    "    \"attn\": attn_scores,\n",
    "    \"final_score\": final_score,\n",
    "    \"label\": y_test.values,\n",
    "    \"pred\": y_pred\n",
    "})\n",
    "\n",
    "\n"
   ],
   "id": "5d0f1fee38ad4a13",
   "outputs": [
    {
     "name": "stdout",
     "output_type": "stream",
     "text": [
      "🔍 Attention + Mahalanobis kombinasyonu başlatılıyor...\n",
      "\n",
      "Belirlenen dinamik eşik (95. persentil): 0.584350\n",
      "\n",
      "Confusion Matrix:\n",
      " [[19229  1013]\n",
      " [ 2993  6764]]\n",
      "\n",
      "Classification Report:\n",
      "               precision    recall  f1-score   support\n",
      "\n",
      "           0       0.87      0.95      0.91     20242\n",
      "           1       0.87      0.69      0.77      9757\n",
      "\n",
      "    accuracy                           0.87     29999\n",
      "   macro avg       0.87      0.82      0.84     29999\n",
      "weighted avg       0.87      0.87      0.86     29999\n",
      "\n",
      "F1 Skoru: 0.7715\n"
     ]
    }
   ],
   "execution_count": 39
  },
  {
   "metadata": {
    "ExecuteTime": {
     "end_time": "2025-10-29T16:02:50.467885Z",
     "start_time": "2025-10-29T16:02:50.042158Z"
    }
   },
   "cell_type": "code",
   "source": [
    "import numpy as np\n",
    "from sklearn.metrics import precision_recall_curve, f1_score, roc_auc_score, average_precision_score, confusion_matrix, classification_report\n",
    "\n",
    "# --- Güvenlik: recon_z ve md_z yoksa uyar ---\n",
    "for var_name in [\"recon_z\", \"md_z\", \"y_test\"]:\n",
    "    if var_name not in globals():\n",
    "        raise RuntimeError(f\"Bu hücreyi çalıştırmadan önce '{var_name}' değişkeni hesaplanmış olmalı.\")\n",
    "\n",
    "y_true = y_test.values if hasattr(y_test, \"values\") else np.asarray(y_test)\n",
    "\n",
    "def best_f1_threshold(y, scores):\n",
    "    prec, rec, thr = precision_recall_curve(y, scores)\n",
    "    f1s = 2 * prec * rec / (prec + rec + 1e-12)\n",
    "    # precision_recall_curve son elemana sentinel koyar; onun için son threshold elemanı kullanılmaz\n",
    "    best_idx = np.nanargmax(f1s[:-1])\n",
    "    return float(thr[best_idx]), float(f1s[best_idx]), prec[best_idx], rec[best_idx]\n",
    "\n",
    "alphas = np.linspace(0.0, 1.0, 21)  # 0.00, 0.05, ... , 1.00\n",
    "search_log = []\n",
    "\n",
    "print(\"🔧 α–β ağırlık taraması başlıyor...\\n\")\n",
    "for a in alphas:\n",
    "    final_score = a * recon_z + (1.0 - a) * md_z\n",
    "    thr, f1best, p_at_thr, r_at_thr = best_f1_threshold(y_true, final_score)\n",
    "    auroc = roc_auc_score(y_true, final_score)\n",
    "    auprc = average_precision_score(y_true, final_score)\n",
    "    search_log.append((a, thr, f1best, p_at_thr, r_at_thr, auroc, auprc))\n",
    "\n",
    "# En iyi α’yı seç\n",
    "best = max(search_log, key=lambda x: x[2])  # F1’e göre\n",
    "best_alpha, best_thr, best_f1, best_p, best_r, best_auroc, best_auprc = best\n",
    "\n",
    "# En iyi α ve eşikle nihai tahminleri çıkar\n",
    "final_score_best = best_alpha * recon_z + (1.0 - best_alpha) * md_z\n",
    "y_pred = (final_score_best > best_thr).astype(int)\n",
    "cm = confusion_matrix(y_true, y_pred)\n",
    "\n",
    "print(f\"✅ En iyi α: {best_alpha:.2f} | β: {1.0-best_alpha:.2f}\")\n",
    "print(f\"   En iyi eşik: {best_thr:.6f}\")\n",
    "print(f\"   F1: {best_f1:.4f} | Precision: {best_p:.4f} | Recall: {best_r:.4f}\")\n",
    "print(f\"   AUROC: {best_auroc:.4f} | AUPRC: {best_auprc:.4f}\\n\")\n",
    "print(\"Confusion Matrix:\")\n",
    "print(cm)\n",
    "print(\"\\nClassification Report:\")\n",
    "print(classification_report(y_true, y_pred))\n",
    "\n",
    "# (Opsiyonel) Tarama özetini tablo olarak görmek istersen:\n",
    "try:\n",
    "    import pandas as pd\n",
    "    sweep_df = pd.DataFrame(search_log, columns=[\"alpha\", \"best_thr\", \"F1\", \"Precision_at_thr\", \"Recall_at_thr\", \"AUROC\", \"AUPRC\"])\n",
    "    display(sweep_df.sort_values(\"F1\", ascending=False).reset_index(drop=True).head(10))\n",
    "except Exception:\n",
    "    pass\n"
   ],
   "id": "aeba54a227b11b67",
   "outputs": [
    {
     "name": "stdout",
     "output_type": "stream",
     "text": [
      "🔧 α–β ağırlık taraması başlıyor...\n",
      "\n",
      "✅ En iyi α: 0.70 | β: 0.30\n",
      "   En iyi eşik: 0.021046\n",
      "   F1: 0.8829 | Precision: 0.8338 | Recall: 0.9382\n",
      "   AUROC: 0.9646 | AUPRC: 0.9026\n",
      "\n",
      "Confusion Matrix:\n",
      "[[18417  1825]\n",
      " [  604  9153]]\n",
      "\n",
      "Classification Report:\n",
      "              precision    recall  f1-score   support\n",
      "\n",
      "           0       0.97      0.91      0.94     20242\n",
      "           1       0.83      0.94      0.88      9757\n",
      "\n",
      "    accuracy                           0.92     29999\n",
      "   macro avg       0.90      0.92      0.91     29999\n",
      "weighted avg       0.92      0.92      0.92     29999\n",
      "\n"
     ]
    },
    {
     "data": {
      "text/plain": [
       "   alpha  best_thr        F1  Precision_at_thr  Recall_at_thr     AUROC  \\\n",
       "0   0.70  0.021046  0.882909          0.833774       0.938198  0.964593   \n",
       "1   0.75  0.052259  0.882470          0.840820       0.928462  0.964473   \n",
       "2   0.80  0.100334  0.881766          0.850920       0.914933  0.963771   \n",
       "3   0.65 -0.028479  0.880438          0.822765       0.946807  0.964663   \n",
       "4   0.60 -0.078685  0.877929          0.811624       0.956032  0.964220   \n",
       "5   0.85  0.029932  0.873526          0.829311       0.922722  0.962112   \n",
       "6   0.55 -0.126974  0.872991          0.798369       0.963001  0.963091   \n",
       "7   0.50 -0.147821  0.864837          0.790577       0.954494  0.961332   \n",
       "8   0.90  0.133753  0.864639          0.851451       0.878241  0.959016   \n",
       "9   0.95  0.197249  0.861796          0.858596       0.865020  0.954350   \n",
       "\n",
       "      AUPRC  \n",
       "0  0.902577  \n",
       "1  0.899566  \n",
       "2  0.895494  \n",
       "3  0.905633  \n",
       "4  0.907672  \n",
       "5  0.890109  \n",
       "6  0.908099  \n",
       "7  0.906882  \n",
       "8  0.881928  \n",
       "9  0.870047  "
      ],
      "text/html": [
       "<div>\n",
       "<style scoped>\n",
       "    .dataframe tbody tr th:only-of-type {\n",
       "        vertical-align: middle;\n",
       "    }\n",
       "\n",
       "    .dataframe tbody tr th {\n",
       "        vertical-align: top;\n",
       "    }\n",
       "\n",
       "    .dataframe thead th {\n",
       "        text-align: right;\n",
       "    }\n",
       "</style>\n",
       "<table border=\"1\" class=\"dataframe\">\n",
       "  <thead>\n",
       "    <tr style=\"text-align: right;\">\n",
       "      <th></th>\n",
       "      <th>alpha</th>\n",
       "      <th>best_thr</th>\n",
       "      <th>F1</th>\n",
       "      <th>Precision_at_thr</th>\n",
       "      <th>Recall_at_thr</th>\n",
       "      <th>AUROC</th>\n",
       "      <th>AUPRC</th>\n",
       "    </tr>\n",
       "  </thead>\n",
       "  <tbody>\n",
       "    <tr>\n",
       "      <th>0</th>\n",
       "      <td>0.70</td>\n",
       "      <td>0.021046</td>\n",
       "      <td>0.882909</td>\n",
       "      <td>0.833774</td>\n",
       "      <td>0.938198</td>\n",
       "      <td>0.964593</td>\n",
       "      <td>0.902577</td>\n",
       "    </tr>\n",
       "    <tr>\n",
       "      <th>1</th>\n",
       "      <td>0.75</td>\n",
       "      <td>0.052259</td>\n",
       "      <td>0.882470</td>\n",
       "      <td>0.840820</td>\n",
       "      <td>0.928462</td>\n",
       "      <td>0.964473</td>\n",
       "      <td>0.899566</td>\n",
       "    </tr>\n",
       "    <tr>\n",
       "      <th>2</th>\n",
       "      <td>0.80</td>\n",
       "      <td>0.100334</td>\n",
       "      <td>0.881766</td>\n",
       "      <td>0.850920</td>\n",
       "      <td>0.914933</td>\n",
       "      <td>0.963771</td>\n",
       "      <td>0.895494</td>\n",
       "    </tr>\n",
       "    <tr>\n",
       "      <th>3</th>\n",
       "      <td>0.65</td>\n",
       "      <td>-0.028479</td>\n",
       "      <td>0.880438</td>\n",
       "      <td>0.822765</td>\n",
       "      <td>0.946807</td>\n",
       "      <td>0.964663</td>\n",
       "      <td>0.905633</td>\n",
       "    </tr>\n",
       "    <tr>\n",
       "      <th>4</th>\n",
       "      <td>0.60</td>\n",
       "      <td>-0.078685</td>\n",
       "      <td>0.877929</td>\n",
       "      <td>0.811624</td>\n",
       "      <td>0.956032</td>\n",
       "      <td>0.964220</td>\n",
       "      <td>0.907672</td>\n",
       "    </tr>\n",
       "    <tr>\n",
       "      <th>5</th>\n",
       "      <td>0.85</td>\n",
       "      <td>0.029932</td>\n",
       "      <td>0.873526</td>\n",
       "      <td>0.829311</td>\n",
       "      <td>0.922722</td>\n",
       "      <td>0.962112</td>\n",
       "      <td>0.890109</td>\n",
       "    </tr>\n",
       "    <tr>\n",
       "      <th>6</th>\n",
       "      <td>0.55</td>\n",
       "      <td>-0.126974</td>\n",
       "      <td>0.872991</td>\n",
       "      <td>0.798369</td>\n",
       "      <td>0.963001</td>\n",
       "      <td>0.963091</td>\n",
       "      <td>0.908099</td>\n",
       "    </tr>\n",
       "    <tr>\n",
       "      <th>7</th>\n",
       "      <td>0.50</td>\n",
       "      <td>-0.147821</td>\n",
       "      <td>0.864837</td>\n",
       "      <td>0.790577</td>\n",
       "      <td>0.954494</td>\n",
       "      <td>0.961332</td>\n",
       "      <td>0.906882</td>\n",
       "    </tr>\n",
       "    <tr>\n",
       "      <th>8</th>\n",
       "      <td>0.90</td>\n",
       "      <td>0.133753</td>\n",
       "      <td>0.864639</td>\n",
       "      <td>0.851451</td>\n",
       "      <td>0.878241</td>\n",
       "      <td>0.959016</td>\n",
       "      <td>0.881928</td>\n",
       "    </tr>\n",
       "    <tr>\n",
       "      <th>9</th>\n",
       "      <td>0.95</td>\n",
       "      <td>0.197249</td>\n",
       "      <td>0.861796</td>\n",
       "      <td>0.858596</td>\n",
       "      <td>0.865020</td>\n",
       "      <td>0.954350</td>\n",
       "      <td>0.870047</td>\n",
       "    </tr>\n",
       "  </tbody>\n",
       "</table>\n",
       "</div>"
      ]
     },
     "metadata": {},
     "output_type": "display_data"
    }
   ],
   "execution_count": 41
  },
  {
   "metadata": {},
   "cell_type": "code",
   "outputs": [],
   "execution_count": null,
   "source": "",
   "id": "ed3b843cd0e6c227"
  }
 ],
 "metadata": {
  "kernelspec": {
   "display_name": "Python 3",
   "language": "python",
   "name": "python3"
  },
  "language_info": {
   "codemirror_mode": {
    "name": "ipython",
    "version": 2
   },
   "file_extension": ".py",
   "mimetype": "text/x-python",
   "name": "python",
   "nbconvert_exporter": "python",
   "pygments_lexer": "ipython2",
   "version": "2.7.6"
  }
 },
 "nbformat": 4,
 "nbformat_minor": 5
}
